{
 "cells": [
  {
   "cell_type": "code",
   "execution_count": 1,
   "metadata": {},
   "outputs": [],
   "source": [
    "from langchain_community.vectorstores import Chroma\n",
    "from langchain.text_splitter import CharacterTextSplitter\n",
    "from langchain_community.embeddings import HuggingFaceBgeEmbeddings\n",
    "from langchain_community.document_loaders import CSVLoader\n",
    "from logger import logger, log_function, log_rag_query\n",
    "from googleapiclient.discovery import build\n",
    "from dotenv import load_dotenv\n",
    "import os\n",
    "\n",
    "from rag import search_youtube_song\n"
   ]
  },
  {
   "cell_type": "code",
   "execution_count": 2,
   "metadata": {},
   "outputs": [
    {
     "name": "stderr",
     "output_type": "stream",
     "text": [
      "2024-10-25 17:10:14,660 - INFO - file_cache is only supported with oauth2client<4.0.0\n",
      "2024-10-25 17:10:14,663 - INFO - Searching YouTube for: Flume - Ezra official\n",
      "2024-10-25 17:10:15,381 - INFO - Found YouTube video: https://www.youtube.com/watch?v=MGtKETJIcZs\n",
      "2024-10-25 17:10:15,384 - INFO - Found YouTube link for Flume - Ezra\n",
      "2024-10-25 17:10:15,386 - INFO - file_cache is only supported with oauth2client<4.0.0\n",
      "2024-10-25 17:10:15,391 - INFO - Searching YouTube for: Flume - More than you thought official\n",
      "2024-10-25 17:10:16,129 - INFO - Found YouTube video: https://www.youtube.com/watch?v=Nf5qRewILzc\n",
      "2024-10-25 17:10:16,131 - INFO - Found YouTube link for Flume - More than you thought\n",
      "2024-10-25 17:10:16,133 - INFO - file_cache is only supported with oauth2client<4.0.0\n",
      "2024-10-25 17:10:16,136 - INFO - Searching YouTube for: #1 Dads - Camberwall official\n",
      "2024-10-25 17:10:16,890 - INFO - Found YouTube video: https://www.youtube.com/watch?v=ZQolhBeaqqQ\n",
      "2024-10-25 17:10:16,892 - INFO - Found YouTube link for #1 Dads - Camberwall\n",
      "2024-10-25 17:10:16,895 - INFO - file_cache is only supported with oauth2client<4.0.0\n",
      "2024-10-25 17:10:16,898 - INFO - Searching YouTube for: JEFFE - Whoever You Love, Im Cool official\n",
      "2024-10-25 17:10:17,674 - INFO - Found YouTube video: https://www.youtube.com/watch?v=h_TOhuYf13U\n",
      "2024-10-25 17:10:17,675 - INFO - Found YouTube link for JEFFE - Whoever You Love, Im Cool\n"
     ]
    }
   ],
   "source": [
    "import pandas as pd\n",
    "import numpy as np\n",
    "\n",
    "# Load CSV as pandas DataFrame first\n",
    "df = pd.read_csv(\"../ideas.csv\").replace({np.nan:None})\n",
    "\n",
    "# Convert DataFrame to list of dictionaries for preprocessing if needed\n",
    "records = df.to_dict('records')\n",
    "\n",
    "def update_youtube_links(records):\n",
    "    \"\"\"\n",
    "    Update the YouTube links for the ideas where a song is listed and a link doesn't already exist.\n",
    "    \"\"\"\n",
    "    for record in records:\n",
    "        if record['Song'] and not record['Link']:\n",
    "            # Handle case where Song is a list of songs\n",
    "            if isinstance(record['Song'], str) and record['Song'].startswith('['):\n",
    "                # Convert string representation of list to actual list\n",
    "                songs = eval(record['Song'])\n",
    "                if isinstance(record['Timestamp'], str) and record['Timestamp'].startswith('['):\n",
    "                    timestamps = eval(record['Timestamp'])\n",
    "                else:\n",
    "                    timestamps = [None]*len(songs)    \n",
    "                links = []\n",
    "                for song, timestamp in zip(songs, timestamps):\n",
    "                    link = search_youtube_song(song, timestamp)\n",
    "                    logger.info(f\"Found YouTube link for {song}\")\n",
    "                    links.append(link)\n",
    "                record['Link'] = str(links)\n",
    "                continue\n",
    "            else:\n",
    "                record['Link'] = search_youtube_song(record['Song'], record['Timestamp'])\n",
    "            logger.info(f\"Found YouTube link for {record['Song']}\")\n",
    "\n",
    "    # Save the updated DataFrame back to CSV\n",
    "    df = pd.DataFrame(records)\n",
    "    df.to_csv(\"../ideas.csv\", index=False)\n",
    "    logger.info(\"Saved updated ideas.csv\")\n",
    "\n",
    "\n"
   ]
  },
  {
   "cell_type": "code",
   "execution_count": 5,
   "metadata": {},
   "outputs": [
    {
     "data": {
      "text/plain": [
       "{'Category': 'Lyrics',\n",
       " 'Technique': 'Write a character/event profile',\n",
       " 'Description': 'Expand the story separate to the lyrics and see if anything else comes out of it',\n",
       " 'Example': nan,\n",
       " 'Song': 'Bleachers - Dizzy',\n",
       " 'Timestamp': nan,\n",
       " 'Link': nan}"
      ]
     },
     "execution_count": 5,
     "metadata": {},
     "output_type": "execute_result"
    }
   ],
   "source": [
    "record\n"
   ]
  },
  {
   "cell_type": "code",
   "execution_count": 6,
   "metadata": {},
   "outputs": [
    {
     "data": {
      "text/plain": [
       "'https://www.youtube.com/watch?v=wIT_LoegOv4'"
      ]
     },
     "execution_count": 6,
     "metadata": {},
     "output_type": "execute_result"
    }
   ],
   "source": [
    "link"
   ]
  },
  {
   "cell_type": "code",
   "execution_count": null,
   "metadata": {},
   "outputs": [],
   "source": [
    "\n",
    "\n",
    "loader = CSVLoader(\"../ideas.csv\")\n",
    "documents = loader.load()\n",
    "documents\n"
   ]
  },
  {
   "cell_type": "code",
   "execution_count": null,
   "metadata": {},
   "outputs": [],
   "source": [
    "\n",
    "embedding_model = HuggingFaceBgeEmbeddings(\n",
    "    model_name=\"BAAI/llm-embedder\",\n",
    "    model_kwargs={\"device\": \"cuda\"},\n",
    "    encode_kwargs={\"normalize_embeddings\": True},\n",
    ")\n",
    "\n",
    "vectorstore = Chroma.from_documents(texts, embedding_model)"
   ]
  }
 ],
 "metadata": {
  "kernelspec": {
   "display_name": ".venv",
   "language": "python",
   "name": "python3"
  },
  "language_info": {
   "codemirror_mode": {
    "name": "ipython",
    "version": 3
   },
   "file_extension": ".py",
   "mimetype": "text/x-python",
   "name": "python",
   "nbconvert_exporter": "python",
   "pygments_lexer": "ipython3",
   "version": "3.12.7"
  }
 },
 "nbformat": 4,
 "nbformat_minor": 2
}
