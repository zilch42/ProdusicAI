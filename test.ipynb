{
 "cells": [
  {
   "cell_type": "code",
   "execution_count": 2,
   "metadata": {},
   "outputs": [
    {
     "ename": "AttributeError",
     "evalue": "'Graph' object has no attribute 'set_finish_nodes'",
     "output_type": "error",
     "traceback": [
      "\u001b[0;31m---------------------------------------------------------------------------\u001b[0m",
      "\u001b[0;31mAttributeError\u001b[0m                            Traceback (most recent call last)",
      "Cell \u001b[0;32mIn[2], line 19\u001b[0m\n\u001b[1;32m     13\u001b[0m \u001b[38;5;28;01mimport\u001b[39;00m \u001b[38;5;21;01msys\u001b[39;00m\n\u001b[1;32m     16\u001b[0m \u001b[38;5;66;03m# sys.path.append(os.path.dirname(os.path.dirname(os.getcwd())))\u001b[39;00m\n\u001b[1;32m     17\u001b[0m \u001b[38;5;66;03m# load_dotenv()\u001b[39;00m\n\u001b[0;32m---> 19\u001b[0m \u001b[43minvoke_agent\u001b[49m\u001b[43m(\u001b[49m\u001b[38;5;124;43m\"\u001b[39;49m\u001b[38;5;124;43mI want to learn how to play the guitar\u001b[39;49m\u001b[38;5;124;43m\"\u001b[39;49m\u001b[43m)\u001b[49m\n",
      "File \u001b[0;32m~/ProdusicAI/src/agent_framework.py:222\u001b[0m, in \u001b[0;36minvoke_agent\u001b[0;34m(message)\u001b[0m\n\u001b[1;32m    220\u001b[0m \u001b[38;5;28;01mdef\u001b[39;00m \u001b[38;5;21minvoke_agent\u001b[39m(message: \u001b[38;5;28mstr\u001b[39m) \u001b[38;5;241m-\u001b[39m\u001b[38;5;241m>\u001b[39m Dict:\n\u001b[1;32m    221\u001b[0m \u001b[38;5;250m    \u001b[39m\u001b[38;5;124;03m\"\"\"Main entry point for the agent framework.\"\"\"\u001b[39;00m\n\u001b[0;32m--> 222\u001b[0m     graph \u001b[38;5;241m=\u001b[39m \u001b[43mcreate_agent_graph\u001b[49m\u001b[43m(\u001b[49m\u001b[43m)\u001b[49m\n\u001b[1;32m    224\u001b[0m     initial_state \u001b[38;5;241m=\u001b[39m AgentState(\n\u001b[1;32m    225\u001b[0m         messages\u001b[38;5;241m=\u001b[39m[HumanMessage(content\u001b[38;5;241m=\u001b[39mmessage)],\n\u001b[1;32m    226\u001b[0m         current_agent\u001b[38;5;241m=\u001b[39m\u001b[38;5;124m\"\u001b[39m\u001b[38;5;124m\"\u001b[39m,\n\u001b[0;32m   (...)\u001b[0m\n\u001b[1;32m    229\u001b[0m         youtube_url\u001b[38;5;241m=\u001b[39m\u001b[38;5;28;01mNone\u001b[39;00m\n\u001b[1;32m    230\u001b[0m     )\n\u001b[1;32m    232\u001b[0m     result \u001b[38;5;241m=\u001b[39m graph\u001b[38;5;241m.\u001b[39minvoke(initial_state)\n",
      "File \u001b[0;32m~/ProdusicAI/src/agent_framework.py:216\u001b[0m, in \u001b[0;36mcreate_agent_graph\u001b[0;34m()\u001b[0m\n\u001b[1;32m    213\u001b[0m workflow\u001b[38;5;241m.\u001b[39madd_edge(\u001b[38;5;124m\"\u001b[39m\u001b[38;5;124mspecialist\u001b[39m\u001b[38;5;124m\"\u001b[39m, \u001b[38;5;124m\"\u001b[39m\u001b[38;5;124mfact_check\u001b[39m\u001b[38;5;124m\"\u001b[39m)\n\u001b[1;32m    215\u001b[0m \u001b[38;5;66;03m# Set end nodes\u001b[39;00m\n\u001b[0;32m--> 216\u001b[0m \u001b[43mworkflow\u001b[49m\u001b[38;5;241;43m.\u001b[39;49m\u001b[43mset_finish_nodes\u001b[49m([\u001b[38;5;124m\"\u001b[39m\u001b[38;5;124mhandle_random\u001b[39m\u001b[38;5;124m\"\u001b[39m, \u001b[38;5;124m\"\u001b[39m\u001b[38;5;124mfact_check\u001b[39m\u001b[38;5;124m\"\u001b[39m])\n\u001b[1;32m    218\u001b[0m \u001b[38;5;28;01mreturn\u001b[39;00m workflow\u001b[38;5;241m.\u001b[39mcompile()\n",
      "\u001b[0;31mAttributeError\u001b[0m: 'Graph' object has no attribute 'set_finish_nodes'"
     ]
    }
   ],
   "source": [
    "from langchain_chroma import Chroma\n",
    "from langchain_community.embeddings import HuggingFaceBgeEmbeddings\n",
    "from langchain.schema import Document  \n",
    "from googleapiclient.discovery import build\n",
    "from dotenv import load_dotenv\n",
    "import os\n",
    "import pandas as pd\n",
    "import numpy as np\n",
    "import hashlib\n",
    "import asyncio\n",
    "import random\n",
    "from src.agent_framework import invoke_agent\n",
    "import sys\n",
    "\n",
    "\n",
    "# sys.path.append(os.path.dirname(os.path.dirname(os.getcwd())))\n",
    "# load_dotenv()\n",
    "\n",
    "invoke_agent(\"I want to learn how to play the guitar\")\n"
   ]
  },
  {
   "cell_type": "code",
   "execution_count": 4,
   "metadata": {},
   "outputs": [
    {
     "data": {
      "text/plain": [
       "'/home/abb064/ProdusicAI/src'"
      ]
     },
     "execution_count": 4,
     "metadata": {},
     "output_type": "execute_result"
    }
   ],
   "source": [
    "os.getcwd()"
   ]
  }
 ],
 "metadata": {
  "kernelspec": {
   "display_name": ".venv",
   "language": "python",
   "name": "python3"
  },
  "language_info": {
   "codemirror_mode": {
    "name": "ipython",
    "version": 3
   },
   "file_extension": ".py",
   "mimetype": "text/x-python",
   "name": "python",
   "nbconvert_exporter": "python",
   "pygments_lexer": "ipython3",
   "version": "3.12.7"
  }
 },
 "nbformat": 4,
 "nbformat_minor": 2
}
